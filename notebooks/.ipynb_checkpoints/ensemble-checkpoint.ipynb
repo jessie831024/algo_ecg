{
 "cells": [
  {
   "cell_type": "markdown",
   "id": "aa8810ed-5f1f-482a-9533-1b4a874c1bcb",
   "metadata": {},
   "source": [
    "# Ensemble methods"
   ]
  },
  {
   "cell_type": "markdown",
   "id": "c3a27993-2ef8-4641-be36-c151f0eb4777",
   "metadata": {},
   "source": [
    "Issues it solves: \n",
    "\n",
    "- overfitting due to large number of features and less samples;\n",
    "- colinearity\n",
    "- class imbalance\n",
    "- high dimensional data & non-linear relationships"
   ]
  },
  {
   "cell_type": "code",
   "execution_count": null,
   "id": "330acfb3-3a9e-4551-a2d0-f6b7ff09e27f",
   "metadata": {},
   "outputs": [],
   "source": []
  },
  {
   "cell_type": "code",
   "execution_count": null,
   "id": "57a89dd6-8845-4e8d-b2cd-e9140aa69506",
   "metadata": {},
   "outputs": [],
   "source": []
  },
  {
   "cell_type": "code",
   "execution_count": null,
   "id": "1aaf091e-dbbf-4e4d-bda3-a17891d51a11",
   "metadata": {},
   "outputs": [],
   "source": []
  }
 ],
 "metadata": {
  "kernelspec": {
   "display_name": "cinc",
   "language": "python",
   "name": "cinc"
  },
  "language_info": {
   "codemirror_mode": {
    "name": "ipython",
    "version": 3
   },
   "file_extension": ".py",
   "mimetype": "text/x-python",
   "name": "python",
   "nbconvert_exporter": "python",
   "pygments_lexer": "ipython3",
   "version": "3.8.10"
  }
 },
 "nbformat": 4,
 "nbformat_minor": 5
}
