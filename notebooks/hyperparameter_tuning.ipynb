{
 "cells": [
  {
   "cell_type": "code",
   "execution_count": 1,
   "id": "85afd12a-48a7-4eb2-87af-35aeae00830a",
   "metadata": {},
   "outputs": [],
   "source": [
    "import logging \n",
    "import numpy as np \n",
    "import pandas as pd\n",
    "\n",
    "import matplotlib.pyplot as plt\n",
    "import sklearn.model_selection\n",
    "\n",
    "import algo_ecg.data\n",
    "import algo_ecg.preprocessing\n",
    "from algo_ecg.feature_transformer import calculate_hrv_based_on_peak_intervals, FindPeaksCustomTransformer, select_cols\n",
    "\n",
    "from sklearn.preprocessing import FunctionTransformer\n",
    "from sklearn.linear_model import LogisticRegression\n",
    "from sklearn.svm import LinearSVC\n",
    "from sklearn.feature_selection import SelectFromModel\n",
    "from sklearn.model_selection import GridSearchCV, RandomizedSearchCV\n",
    "\n",
    "from sklearn.experimental import enable_halving_search_cv\n",
    "from sklearn.model_selection import HalvingRandomSearchCV\n",
    "\n",
    "from sklearn.pipeline import Pipeline\n",
    "from sklearn.preprocessing import FunctionTransformer, StandardScaler\n",
    "from scipy.signal import find_peaks\n",
    "import pandas as pd\n"
   ]
  },
  {
   "cell_type": "code",
   "execution_count": 4,
   "id": "73130007-ed69-4a51-aa6c-3e67641146a2",
   "metadata": {},
   "outputs": [],
   "source": [
    "#X_in, y = algo_ecg.data.import_physionet_data('../data')\n",
    "X_in, y = algo_ecg.data.import_physionet_data('../data', num_files_to_read=1000)\n",
    "X = algo_ecg.preprocessing.preprocess(X_in)"
   ]
  },
  {
   "cell_type": "code",
   "execution_count": 5,
   "id": "f4b15576-3aa3-43be-b046-3710fbc087c1",
   "metadata": {},
   "outputs": [],
   "source": [
    "X_train, X_test, y_train, y_test = sklearn.model_selection.train_test_split(X, y, train_size=.7)"
   ]
  },
  {
   "cell_type": "code",
   "execution_count": 6,
   "id": "e754af90-fa50-47ab-963c-f313e073ee5b",
   "metadata": {},
   "outputs": [],
   "source": [
    "slice_length = len(X_train[0])\n",
    "X_train = np.concatenate(X_train).reshape(-1, slice_length, 1)\n",
    "X_test = np.concatenate(X_test).reshape(-1, slice_length, 1)"
   ]
  },
  {
   "cell_type": "code",
   "execution_count": 7,
   "id": "a0faf272-4fcd-474e-9901-543e5a49d1d0",
   "metadata": {},
   "outputs": [],
   "source": [
    "X_train_pd = pd.DataFrame.from_records(X_train)\n",
    "X_test_pd = pd.DataFrame.from_records(X_test)"
   ]
  },
  {
   "cell_type": "code",
   "execution_count": 8,
   "id": "d4fe90ae-6bd7-4e74-994f-87dcbe0e1667",
   "metadata": {},
   "outputs": [
    {
     "name": "stdout",
     "output_type": "stream",
     "text": [
      "(482, 9000) (208, 9000)\n"
     ]
    }
   ],
   "source": [
    "print(X_train_pd.shape, X_test_pd.shape)"
   ]
  },
  {
   "cell_type": "code",
   "execution_count": 9,
   "id": "9cc83843-8bea-4569-a76f-957f0bb26c01",
   "metadata": {},
   "outputs": [],
   "source": [
    "\n",
    "pipe = Pipeline(steps=[\n",
    "    ('peaks', FindPeaksCustomTransformer (axis=1)), \n",
    "    ('feature_selection', SelectFromModel(LinearSVC(dual=\"auto\", penalty=\"l1\", C = 0.01))), \n",
    "    ('standardscaler', StandardScaler()), \n",
    "    (\"lr\", LogisticRegression(max_iter=1000, tol=0.1, class_weight = \"balanced\"))\n",
    "     ]\n",
    "    )"
   ]
  },
  {
   "cell_type": "code",
   "execution_count": 10,
   "id": "e9146d0e-2438-4e21-9bc9-763df8a106c4",
   "metadata": {},
   "outputs": [
    {
     "name": "stderr",
     "output_type": "stream",
     "text": [
      "/Users/jessie/.pyenv/versions/cinc/lib/python3.8/site-packages/sklearn/model_selection/_search.py:307: UserWarning: The total space of parameters 4 is smaller than n_iter=40. Running 4 iterations. For exhaustive searches, use GridSearchCV.\n",
      "  warnings.warn(\n"
     ]
    },
    {
     "name": "stdout",
     "output_type": "stream",
     "text": [
      "Best parameter (CV score=0.889):\n",
      "{'lr__C': 10000.0}\n"
     ]
    }
   ],
   "source": [
    "# Parameters of pipelines can be set using '__' separated parameter names:\n",
    "param_grid = {\n",
    "    \"lr__C\": np.logspace(-4, 4, 4), \n",
    "}\n",
    "\n",
    "#search = GridSearchCV(pipe, param_grid, n_jobs=2)\n",
    "#search = RandomizedSearchCV(pipe, param_grid, n_jobs=2, cv = 3)\n",
    "search = HalvingRandomSearchCV(pipe, param_grid, n_jobs=2, cv = 3)\n",
    "\n",
    "search.fit(X_train_pd, y_train)\n",
    "print(\"Best parameter (CV score=%0.3f):\" % search.best_score_)\n",
    "print(search.best_params_)\n"
   ]
  },
  {
   "cell_type": "code",
   "execution_count": 13,
   "id": "fe000aa1-929c-4000-aae5-02751714573b",
   "metadata": {},
   "outputs": [],
   "source": [
    "from datetime import datetime\n",
    "filename = 'model_pipeline_all_data_{}.pkl'.format(datetime.now().strftime('%Y-%m-%d'))"
   ]
  },
  {
   "cell_type": "code",
   "execution_count": 14,
   "id": "03993bc8-2bc7-4164-bdaf-853d08f1a4c7",
   "metadata": {},
   "outputs": [
    {
     "data": {
      "text/plain": [
       "['model_pipeline_all_data_2024-01-12.pkl']"
      ]
     },
     "execution_count": 14,
     "metadata": {},
     "output_type": "execute_result"
    }
   ],
   "source": [
    "import joblib\n",
    "#joblib.dump(search, 'model_pipeline_all_data.pkl')\n",
    "joblib.dump(search, filename)"
   ]
  },
  {
   "cell_type": "code",
   "execution_count": 15,
   "id": "62869f1d-d025-42af-9bde-d1cc9957acff",
   "metadata": {},
   "outputs": [],
   "source": [
    "y_train_pred = search.predict(X_train_pd)\n",
    "y_test_pred = search.predict(X_test_pd)\n"
   ]
  },
  {
   "cell_type": "code",
   "execution_count": 16,
   "id": "06a4e974-9c34-4bec-87a8-f347515b03da",
   "metadata": {},
   "outputs": [
    {
     "data": {
      "text/plain": [
       "(0.8221153846153846,\n",
       " 0.4230769230769231,\n",
       " 0.7586206896551724,\n",
       " 0.8324022346368715)"
      ]
     },
     "execution_count": 16,
     "metadata": {},
     "output_type": "execute_result"
    }
   ],
   "source": [
    "CUTOFF = .5\n",
    "acc = sklearn.metrics.accuracy_score(y_true=y_test, y_pred=(y_test_pred > CUTOFF))\n",
    "prec = sklearn.metrics.precision_score(y_true=y_test, y_pred=(y_test_pred > CUTOFF))\n",
    "rec = np.sum(y_test * (y_test_pred > CUTOFF).reshape((-1,))) / np.sum(y_test)\n",
    "sens = np.sum((y_test + (y_test_pred > CUTOFF).reshape((-1,))) == 0) / np.sum(y_test == 0)\n",
    "acc, prec, rec, sens"
   ]
  },
  {
   "cell_type": "code",
   "execution_count": 23,
   "id": "eb3e6fb0-a4f0-4198-9eb1-787cf8be91d5",
   "metadata": {},
   "outputs": [],
   "source": [
    "def output_performance_metrics(cutoff, y_true, y_pred): \n",
    "    acc = sklearn.metrics.accuracy_score(y_true=y_true, y_pred=(y_pred > CUTOFF))\n",
    "    prec = sklearn.metrics.precision_score(y_true=y_true, y_pred=(y_pred > CUTOFF))\n",
    "    rec = np.sum(y_true * (y_pred > CUTOFF).reshape((-1,))) / np.sum(y_true)\n",
    "    sens = np.sum((y_true + (y_pred > CUTOFF).reshape((-1,))) == 0) / np.sum(y_true == 0)\n",
    "    return acc, prec, rec, sens"
   ]
  },
  {
   "cell_type": "code",
   "execution_count": 24,
   "id": "1328dd57-4a67-4fd0-ac59-75cf29fc352d",
   "metadata": {},
   "outputs": [
    {
     "data": {
      "text/plain": [
       "(0.8221153846153846,\n",
       " 0.4230769230769231,\n",
       " 0.7586206896551724,\n",
       " 0.8324022346368715)"
      ]
     },
     "execution_count": 24,
     "metadata": {},
     "output_type": "execute_result"
    }
   ],
   "source": [
    "output_performance_metrics(.5, y_test, y_test_pred)"
   ]
  },
  {
   "cell_type": "code",
   "execution_count": 25,
   "id": "67f94cad-3a62-4f7b-8955-7f87649b15f8",
   "metadata": {},
   "outputs": [
    {
     "data": {
      "text/plain": [
       "(0.7946058091286307, 0.381294964028777, 0.803030303030303, 0.7932692307692307)"
      ]
     },
     "execution_count": 25,
     "metadata": {},
     "output_type": "execute_result"
    }
   ],
   "source": [
    "output_performance_metrics(.5, y_train, y_train_pred)"
   ]
  },
  {
   "cell_type": "code",
   "execution_count": null,
   "id": "c092fea3-e7eb-4ebe-a6d2-16c23f7e7195",
   "metadata": {},
   "outputs": [],
   "source": []
  }
 ],
 "metadata": {
  "kernelspec": {
   "display_name": "cinc",
   "language": "python",
   "name": "cinc"
  },
  "language_info": {
   "codemirror_mode": {
    "name": "ipython",
    "version": 3
   },
   "file_extension": ".py",
   "mimetype": "text/x-python",
   "name": "python",
   "nbconvert_exporter": "python",
   "pygments_lexer": "ipython3",
   "version": "3.8.10"
  }
 },
 "nbformat": 4,
 "nbformat_minor": 5
}
