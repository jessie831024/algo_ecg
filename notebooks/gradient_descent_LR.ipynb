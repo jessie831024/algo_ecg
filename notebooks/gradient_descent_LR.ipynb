{
 "cells": [
  {
   "cell_type": "markdown",
   "id": "4a01e48b-be34-4008-883e-b64ca9e15285",
   "metadata": {},
   "source": [
    "# Gradient Descent "
   ]
  },
  {
   "cell_type": "code",
   "execution_count": 1,
   "id": "be3e1e86-695d-4ecb-b186-5e7577cee1ec",
   "metadata": {},
   "outputs": [],
   "source": [
    "import logging \n",
    "import numpy as np \n",
    "import pandas as pd\n",
    "\n",
    "import algo_ecg.data\n",
    "import algo_ecg.preprocessing\n",
    "from algo_ecg.feature_transformer import calculate_hrv_based_on_peak_intervals, FindPeaksCustomTransformer, select_cols\n",
    "\n",
    "import matplotlib.pyplot as plt\n",
    "\n",
    "from sklearn.pipeline import Pipeline, make_pipeline\n",
    "from sklearn.preprocessing import FunctionTransformer, StandardScaler\n",
    "\n"
   ]
  },
  {
   "cell_type": "markdown",
   "id": "09ded52a-a7f0-45c4-b196-40b0a9a8f5c1",
   "metadata": {},
   "source": [
    "Tutorial link: https://atmamani.github.io/projects/ml/implementing-logistic-regression-in-python/"
   ]
  },
  {
   "cell_type": "code",
   "execution_count": 2,
   "id": "09ee4588-9a27-4b84-8b72-acfebe31249f",
   "metadata": {},
   "outputs": [],
   "source": [
    "def sigmoid(z):\n",
    "    denom = 1+np.e**(0-z)\n",
    "    return 1/denom"
   ]
  },
  {
   "cell_type": "code",
   "execution_count": 3,
   "id": "36544024-9d5d-4e88-a8e7-e2242d3b27d0",
   "metadata": {},
   "outputs": [],
   "source": [
    "def cost_function(theta, X, y):\n",
    "    m=np.size(y)  # number of training samples\n",
    "    \n",
    "    h_theta_x = sigmoid(np.dot(X,theta))\n",
    "    term1 = (0-y)*np.log(h_theta_x)\n",
    "    term2 = (1-y)*np.log(1-h_theta_x)\n",
    "    J = (np.sum(term1-term2))/m\n",
    "    \n",
    "    grad = np.dot(np.transpose(h_theta_x - y),X)\n",
    "    grad = grad/m\n",
    "    \n",
    "    return (J, grad)"
   ]
  },
  {
   "cell_type": "code",
   "execution_count": 117,
   "id": "51777ad4-e7c5-4892-82db-b735a40716b6",
   "metadata": {},
   "outputs": [],
   "source": [
    "def gradient_descent(X, y, theta,\n",
    "                    alpha=0.01, num_iterations=1500):\n",
    "    \"\"\"\n",
    "    Solve for theta using Gradient Descent optimiztion technique. \n",
    "    Alpha is the learning rate\n",
    "    \"\"\"\n",
    "    m = len(y)\n",
    "    J_history = []\n",
    "    theta0_history = []\n",
    "    theta1_history = []\n",
    "    theta2_history = []\n",
    "    theta = theta.reshape(3,1)\n",
    "\n",
    "    for i in range(num_iterations):\n",
    "        error = (np.dot(X, theta) - y)\n",
    "        \n",
    "        term0 = (alpha/m) * np.sum(error* X[:,0].reshape(m,1))\n",
    "        term1 = (alpha/m) * np.sum(error* X[:,1].reshape(m,1))\n",
    "        term2 = (alpha/m) * np.sum(error* X[:,2].reshape(m,1))\n",
    "        \n",
    "        # update theta\n",
    "        term_vector = np.array([[term0],[term1], [term2]])\n",
    "#         print(term_vector)\n",
    "        theta = theta - term_vector.reshape(3,1)\n",
    "        \n",
    "        # store history values\n",
    "        theta0_history.append(theta[0].tolist()[0])\n",
    "        theta1_history.append(theta[1].tolist()[0])\n",
    "        theta2_history.append(theta[2].tolist()[0])\n",
    "        J_history.append(cost_function(theta,X,y)[0])\n",
    "\n",
    "    return (theta, J_history, theta0_history, theta1_history, theta2_history)"
   ]
  },
  {
   "cell_type": "markdown",
   "id": "0a7af9d0-229e-4ce7-914f-2fc177e45110",
   "metadata": {},
   "source": [
    "# Load data and run"
   ]
  },
  {
   "cell_type": "code",
   "execution_count": 73,
   "id": "9d1528da-ddcd-4b46-b47a-85f1a510a333",
   "metadata": {},
   "outputs": [],
   "source": [
    "X_in, y = algo_ecg.data.import_physionet_data('../data', num_files_to_read=1000)\n",
    "X = algo_ecg.preprocessing.preprocess(X_in)\n",
    "slice_length = len(X[0])\n",
    "X = np.concatenate(X).reshape(-1, slice_length, 1)\n",
    "X = pd.DataFrame.from_records(X)"
   ]
  },
  {
   "cell_type": "code",
   "execution_count": 115,
   "id": "5517b02b-29cf-403c-b4df-a98ae958715d",
   "metadata": {},
   "outputs": [],
   "source": [
    "pipe = Pipeline(steps=[\n",
    "    ('peaks', FindPeaksCustomTransformer (axis=1)), \n",
    "    ('feature_select_manual',FunctionTransformer(select_cols, kw_args={\"col_names\": ['avg_nni','rmssd']})),\n",
    "    ('standardscaler', StandardScaler())\n",
    "])\n"
   ]
  },
  {
   "cell_type": "code",
   "execution_count": 75,
   "id": "b534d7ec-e58d-4f2e-ad92-a3d726d2b8c3",
   "metadata": {},
   "outputs": [],
   "source": [
    "X_df = pipe.fit_transform(X)"
   ]
  },
  {
   "cell_type": "code",
   "execution_count": 76,
   "id": "9ac2846c-9295-4b16-8082-9f86f91b6a26",
   "metadata": {},
   "outputs": [],
   "source": [
    "X_df2 = pd.DataFrame.from_records(X_df)"
   ]
  },
  {
   "cell_type": "code",
   "execution_count": 77,
   "id": "a984d650-611f-404c-b1c0-074ca9e2e5e0",
   "metadata": {},
   "outputs": [
    {
     "data": {
      "text/html": [
       "<div>\n",
       "<style scoped>\n",
       "    .dataframe tbody tr th:only-of-type {\n",
       "        vertical-align: middle;\n",
       "    }\n",
       "\n",
       "    .dataframe tbody tr th {\n",
       "        vertical-align: top;\n",
       "    }\n",
       "\n",
       "    .dataframe thead th {\n",
       "        text-align: right;\n",
       "    }\n",
       "</style>\n",
       "<table border=\"1\" class=\"dataframe\">\n",
       "  <thead>\n",
       "    <tr style=\"text-align: right;\">\n",
       "      <th></th>\n",
       "      <th>0</th>\n",
       "      <th>1</th>\n",
       "    </tr>\n",
       "  </thead>\n",
       "  <tbody>\n",
       "    <tr>\n",
       "      <th>0</th>\n",
       "      <td>-0.669734</td>\n",
       "      <td>-0.348685</td>\n",
       "    </tr>\n",
       "    <tr>\n",
       "      <th>1</th>\n",
       "      <td>0.408232</td>\n",
       "      <td>1.116316</td>\n",
       "    </tr>\n",
       "  </tbody>\n",
       "</table>\n",
       "</div>"
      ],
      "text/plain": [
       "          0         1\n",
       "0 -0.669734 -0.348685\n",
       "1  0.408232  1.116316"
      ]
     },
     "execution_count": 77,
     "metadata": {},
     "output_type": "execute_result"
    }
   ],
   "source": [
    "X_df2.head(2)"
   ]
  },
  {
   "cell_type": "code",
   "execution_count": 78,
   "id": "0a63fdd1-2c68-435c-ae09-15fab1c8b5af",
   "metadata": {},
   "outputs": [],
   "source": [
    "x_0 = np.ones(X_df.shape[0]).reshape(X_df.shape[0],1)\n",
    "#x_0"
   ]
  },
  {
   "cell_type": "code",
   "execution_count": 79,
   "id": "29093a45-dc4a-4d74-bf57-9187a2a0c06c",
   "metadata": {},
   "outputs": [
    {
     "data": {
      "text/plain": [
       "(690, 3)"
      ]
     },
     "execution_count": 79,
     "metadata": {},
     "output_type": "execute_result"
    }
   ],
   "source": [
    "X2 = np.concatenate((x_0, X_df), axis=1)\n",
    "X2.shape"
   ]
  },
  {
   "cell_type": "code",
   "execution_count": 80,
   "id": "09aa4bb7-68d8-4b31-85a0-da2f6a9334a2",
   "metadata": {},
   "outputs": [
    {
     "data": {
      "text/plain": [
       "(690, 2)"
      ]
     },
     "execution_count": 80,
     "metadata": {},
     "output_type": "execute_result"
    }
   ],
   "source": [
    "X_df.shape"
   ]
  },
  {
   "cell_type": "code",
   "execution_count": 81,
   "id": "a9374937-7a12-4cd4-a58b-4be52d4a62ce",
   "metadata": {},
   "outputs": [
    {
     "data": {
      "text/plain": [
       "array([[0.],\n",
       "       [0.],\n",
       "       [0.]])"
      ]
     },
     "execution_count": 81,
     "metadata": {},
     "output_type": "execute_result"
    }
   ],
   "source": [
    "initial_theta = np.zeros(X_df.shape[1]+1).reshape(X_df.shape[1]+1,1)\n",
    "initial_theta.reshape(3,1)"
   ]
  },
  {
   "cell_type": "code",
   "execution_count": 82,
   "id": "386a621a-c4bb-4059-a814-1ef7f03ce64a",
   "metadata": {},
   "outputs": [
    {
     "data": {
      "text/plain": [
       "array([[0.5],\n",
       "       [0.5],\n",
       "       [0.5]])"
      ]
     },
     "execution_count": 82,
     "metadata": {},
     "output_type": "execute_result"
    }
   ],
   "source": [
    "initial_theta2 = (np.ones(3)-0.5).reshape(3,1)\n",
    "initial_theta2.reshape(3,1)"
   ]
  },
  {
   "cell_type": "code",
   "execution_count": 83,
   "id": "31d6440a-7719-434b-8b30-34fc1b5f577b",
   "metadata": {},
   "outputs": [
    {
     "name": "stdout",
     "output_type": "stream",
     "text": [
      "Cost at initial theta: 478.271554586362\n",
      "Gradient at inital theta: [5.00000000e-01 2.57443020e-18 8.75306269e-17 ... 5.00000000e-01\n",
      " 2.57443020e-18 8.49561967e-17]\n"
     ]
    }
   ],
   "source": [
    "# compute cost and gradient\n",
    "(J, grad) = cost_function(initial_theta, X2, y)\n",
    "print(f'Cost at initial theta: {J}')\n",
    "print(f'Gradient at inital theta: {grad.flatten()}')"
   ]
  },
  {
   "cell_type": "code",
   "execution_count": 118,
   "id": "9b71aa7f-c802-4df1-8b5f-20102528f661",
   "metadata": {},
   "outputs": [
    {
     "name": "stdout",
     "output_type": "stream",
     "text": [
      "CPU times: user 1.09 s, sys: 2.81 s, total: 3.9 s\n",
      "Wall time: 474 ms\n"
     ]
    }
   ],
   "source": [
    "%%time\n",
    "num_iterations=150\n",
    "alpha=0.0002\n",
    "theta, J_history, theta0_history, \\\n",
    "theta1_history, theta2_history = gradient_descent(X2,y,initial_theta2,\n",
    "                                                  alpha,num_iterations)"
   ]
  },
  {
   "cell_type": "code",
   "execution_count": 119,
   "id": "c85d862b-f804-4679-891d-c9415d638920",
   "metadata": {},
   "outputs": [
    {
     "data": {
      "text/plain": [
       "array([[1.37681159e-01],\n",
       "       [1.99828419e-11],\n",
       "       [1.99828418e-11]])"
      ]
     },
     "execution_count": 119,
     "metadata": {},
     "output_type": "execute_result"
    }
   ],
   "source": [
    "theta"
   ]
  },
  {
   "cell_type": "code",
   "execution_count": 120,
   "id": "8d078127-4d6a-4d11-99ec-04bcf7fb27be",
   "metadata": {},
   "outputs": [
    {
     "data": {
      "image/png": "[encoded data removed]",
      "text/plain": [
       "<Figure size 800x500 with 2 Axes>"
      ]
     },
     "metadata": {},
     "output_type": "display_data"
    }
   ],
   "source": [
    "fig, ax1 = plt.subplots(figsize=(8,5))\n",
    "\n",
    "# plot thetas over time\n",
    "color='tab:blue'\n",
    "ax1.plot(theta0_history, label='$\\\\theta_{0}$', linestyle='--', color=color)\n",
    "ax1.plot(theta1_history, label='$\\\\theta_{1}$', linestyle='-', color=color)\n",
    "ax1.plot(theta2_history, label='$\\\\theta_{2}$', linestyle='-.', color=color)\n",
    "# ax1.legend()\n",
    "ax1.set_xlabel('Iterations'); ax1.set_ylabel('$\\\\theta$', color=color);\n",
    "ax1.tick_params(axis='y', labelcolor=color)\n",
    "\n",
    "# plot loss function over time\n",
    "color='tab:red'\n",
    "ax2 = ax1.twinx()\n",
    "ax2.plot(J_history, label='Loss function', color=color)\n",
    "ax2.set_title('Values of $\\\\theta$ and $J(\\\\theta)$ over iterations')\n",
    "ax2.set_ylabel('Loss: $J(\\\\theta)$', color=color)\n",
    "ax1.tick_params(axis='y', labelcolor=color)\n",
    "\n",
    "# ax2.legend();\n",
    "fig.legend();"
   ]
  },
  {
   "cell_type": "code",
   "execution_count": null,
   "id": "418348d0-c9a7-4c30-90bd-075b290e42bc",
   "metadata": {},
   "outputs": [],
   "source": []
  }
 ],
 "metadata": {
  "kernelspec": {
   "display_name": "cinc",
   "language": "python",
   "name": "cinc"
  },
  "language_info": {
   "codemirror_mode": {
    "name": "ipython",
    "version": 3
   },
   "file_extension": ".py",
   "mimetype": "text/x-python",
   "name": "python",
   "nbconvert_exporter": "python",
   "pygments_lexer": "ipython3",
   "version": "3.8.10"
  }
 },
 "nbformat": 4,
 "nbformat_minor": 5
}
